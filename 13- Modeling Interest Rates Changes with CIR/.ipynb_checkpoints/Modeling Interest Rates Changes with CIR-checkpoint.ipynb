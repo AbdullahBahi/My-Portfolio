{
 "cells": [
  {
   "cell_type": "markdown",
   "metadata": {},
   "source": [
    "# Modeling Interest Rates Changes with CIR\n",
    "\n",
    "## Implementation of the CIR Model\n",
    "\n",
    "This notebook is used to simulate changes in interest rates using the Cox-Ingersoll-Ross model, usually just called the CIR model. CIR model utilizes the mean reversion model which features parameters to control the speed of mean reversion as well as the long term average rate.\n",
    "\n",
    "$$ dr_{t}=a(b-r_{t})\\,dt+\\sigma {\\sqrt  {r_{t}}}\\,dW_{t} $$\n",
    "\n",
    "where $a$ is the speed of mean reversion and $b$ is the long term mean rate and $\\sigma$ is the volatility parameter.\n",
    "\n",
    "This can be read as describing the change in interest at any point of time as a multiple of the distance of the current rate from it's long term mean plus a random value that depends on the volatility parameter.\n",
    "\n",
    "Thus, we can start at some rate $r_0$ and generate a sequence of rates over time using the change in rate defined by the stochastic differential equation above. If we eliminate the ${\\sqrt  {r_{t}}}$ term we get the simpler Vasicek model, but the CIR model eliminates the possibility of negative interest rates by shutting down the volatility term as interest rates approach zero."
   ]
  },
  {
   "cell_type": "code",
   "execution_count": 2,
   "metadata": {},
   "outputs": [],
   "source": [
    "import numpy as np\n",
    "import pandas as pd\n",
    "import edhec_risk_kit as erk\n",
    "%load_ext autoreload\n",
    "%autoreload 2\n",
    "%matplotlib inline"
   ]
  },
  {
   "cell_type": "code",
   "execution_count": 9,
   "metadata": {},
   "outputs": [],
   "source": [
    "def show_cir(r_0=0.03, a=0.5, b=0.03, sigma=0.05, n_scenarios=5):\n",
    "    erk.cir(r_0=r_0, a=a, b=b, sigma=sigma, n_scenarios=n_scenarios)[0].plot(legend=False, figsize=(12,5))"
   ]
  },
  {
   "cell_type": "markdown",
   "metadata": {},
   "source": [
    "## Visualizing simulated interest rates"
   ]
  },
  {
   "cell_type": "code",
   "execution_count": 10,
   "metadata": {},
   "outputs": [
    {
     "data": {
      "application/vnd.jupyter.widget-view+json": {
       "model_id": "ca6279cebd6b4684a4848cfa2aa89533",
       "version_major": 2,
       "version_minor": 0
      },
      "text/plain": [
       "interactive(children=(FloatSlider(value=0.03, description='r_0', max=0.15, step=0.01), FloatSlider(value=0.5, …"
      ]
     },
     "metadata": {},
     "output_type": "display_data"
    }
   ],
   "source": [
    "import ipywidgets as widgets\n",
    "from IPython.display import display\n",
    "controls = widgets.interactive(show_cir,\n",
    "                              r_0 = (0, .15, .01),\n",
    "                              a = (0, 1, .1),\n",
    "                               b = (0, .15, .01),\n",
    "                               sigma= (0, .1, .01),\n",
    "                               n_scenarios = (1, 100))\n",
    "display(controls)"
   ]
  }
 ],
 "metadata": {
  "kernelspec": {
   "display_name": "Python 3",
   "language": "python",
   "name": "python3"
  },
  "language_info": {
   "codemirror_mode": {
    "name": "ipython",
    "version": 3
   },
   "file_extension": ".py",
   "mimetype": "text/x-python",
   "name": "python",
   "nbconvert_exporter": "python",
   "pygments_lexer": "ipython3",
   "version": "3.7.4"
  }
 },
 "nbformat": 4,
 "nbformat_minor": 2
}
